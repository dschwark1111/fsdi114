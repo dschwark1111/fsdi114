{
 "cells": [
  {
   "cell_type": "code",
   "execution_count": 1,
   "id": "cb3d309b-17b9-422f-9938-92b1251d8323",
   "metadata": {},
   "outputs": [
    {
     "name": "stdout",
     "output_type": "stream",
     "text": [
      "h\n",
      "e\n",
      "l\n",
      "l\n",
      "o\n",
      ",\n",
      " \n",
      "w\n",
      "o\n",
      "r\n",
      "l\n",
      "d\n"
     ]
    }
   ],
   "source": [
    "for letter in \"hello, world\":\n",
    "    print(letter)"
   ]
  },
  {
   "cell_type": "markdown",
   "id": "9a47a832-a5e2-447e-92a6-04b631632423",
   "metadata": {},
   "source": [
    "# Problem 1\n",
    "## Anagram Check \n",
    "### Create a function that receives two strings as parameters and returns True in these are anagrams of each other, False otherwise. \n",
    "\n",
    "#### Criteria\n",
    "Two Strings are anagrams of each other if (and only if):\n",
    "1. They contain all the same letters.\n",
    "2. They use the same letters the same amount of times.\n",
    "3. They contain the same number of letters.\n",
    "\n",
    "```\n",
    "Examples:\n",
    "heart and earth\n",
    "scar and cars\n",
    "star and rats\n",
    "```\n"
   ]
  },
  {
   "cell_type": "code",
   "execution_count": null,
   "id": "ea32865d-eda6-4545-8d85-8a6952792e1f",
   "metadata": {},
   "outputs": [],
   "source": [
    "function anagram_check (str1, str 2)\n",
    "   str_1 = str_1()\n",
    "   str_2 = str_2()\n",
    "\n",
    "\n",
    "\n",
    "    return True\n",
    "else:\n",
    "    return False\n",
    "\n",
    "\n",
    "        "
   ]
  }
 ],
 "metadata": {
  "kernelspec": {
   "display_name": "Python 3 (ipykernel)",
   "language": "python",
   "name": "python3"
  },
  "language_info": {
   "codemirror_mode": {
    "name": "ipython",
    "version": 3
   },
   "file_extension": ".py",
   "mimetype": "text/x-python",
   "name": "python",
   "nbconvert_exporter": "python",
   "pygments_lexer": "ipython3",
   "version": "3.11.4"
  }
 },
 "nbformat": 4,
 "nbformat_minor": 5
}
