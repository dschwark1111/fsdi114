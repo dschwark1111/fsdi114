{
 "cells": [
  {
   "cell_type": "code",
   "execution_count": 21,
   "id": "20f456fe-acf8-4d11-a8a5-f14010c6f78c",
   "metadata": {},
   "outputs": [],
   "source": [
    "class Stack:\n",
    "    def __init__(self):\n",
    "        self.items = []\n",
    "\n",
    "    def push(self, value):\n",
    "        self.items.append(value)\n",
    "\n",
    "    def pop(self):\n",
    "        return self.items.pop()\n",
    "\n",
    "#nice to have methods;\n",
    "\n",
    "    def size(self):\n",
    "        return len(self.items)\n",
    "\n",
    "    def peek(self):\n",
    "        return self.items[len(self.items)-1]\n",
    "\n",
    "    def is_empty(self):\n",
    "        return self.items == []\n"
   ]
  },
  {
   "cell_type": "code",
   "execution_count": 5,
   "id": "272e5834-8ac1-47fe-899b-6bd4782441c5",
   "metadata": {},
   "outputs": [],
   "source": [
    "#use the stack class above to invert a string.\n",
    "#given something like \"Rafeal\" your function which must use the stack class above , must return leafaR"
   ]
  },
  {
   "cell_type": "code",
   "execution_count": 1,
   "id": "179e3911-9efb-40c0-a8d2-b77896a6db93",
   "metadata": {},
   "outputs": [],
   "source": [
    "def invert_str(mystring):\n",
    "    stack = Stack()\n",
    "    out = \"\"\n",
    "    for char in mystring:\n",
    "        stack.push(char)\n",
    "    while not stack.is_empty():\n",
    "        out += stack.pop()\n",
    "    return out"
   ]
  },
  {
   "cell_type": "code",
   "execution_count": 22,
   "id": "5932bd0e-ed1a-408a-81d8-38bf9a020736",
   "metadata": {},
   "outputs": [
    {
     "data": {
      "text/plain": [
       "'laefaR'"
      ]
     },
     "execution_count": 22,
     "metadata": {},
     "output_type": "execute_result"
    }
   ],
   "source": [
    "invert_str(\"Rafeal\")"
   ]
  },
  {
   "cell_type": "code",
   "execution_count": 28,
   "id": "122b3ccc-cc1a-474f-a8ef-ff33fb4e4a51",
   "metadata": {},
   "outputs": [],
   "source": [
    "#from scratch implementation of stack\n",
    "\n",
    "class StackII:\n",
    "    class __Node:\n",
    "        def __init__(self, data):\n",
    "            self.data = data\n",
    "            self.below = None\n",
    "\n",
    "    def __init__(self):\n",
    "        self.top = None\n",
    "\n",
    "    def push(self,value):\n",
    "        #create a new node object with the incoming data\n",
    "        new_node = self. __Node(value)\n",
    "        #let's check if it is empty\n",
    "        if not self.top:   #if self.top == None\n",
    "            self.top = new_node\n",
    "        else:\n",
    "        #stack is not empty\n",
    "            old_top = self.top\n",
    "            self.top = new_node\n",
    "            new_node.below = old_top\n",
    "\n",
    "    def pop(self):\n",
    "        #if stack is not empty\n",
    "        if self.top:\n",
    "            node_below = self.top.below\n",
    "            top_value = self.top.data\n",
    "            self.top = node_below\n",
    "            return top_value\n",
    "            #if stack is empty\n",
    "        raise IndexError(\"Stack is empty\")\n",
    "\n",
    "#nice to have\n",
    "    def peek(self):\n",
    "        if self.top:\n",
    "            return self.top.data\n",
    "        raise IndexError(\"Stack is Empty\")\n",
    "\n",
    "    def size(self):\n",
    "        count = 0\n",
    "        current = self.top\n",
    "        while current:  #as long as current is none\n",
    "            count  += 1\n",
    "            current = current.below\n",
    "        return count\n",
    "\n",
    "    def is_empty(self):\n",
    "        if self.top == None:\n",
    "            return True\n",
    "        else:\n",
    "            return False\n",
    "        "
   ]
  },
  {
   "cell_type": "code",
   "execution_count": 27,
   "id": "4365b751-ecee-45e9-b421-8eb1c717ad11",
   "metadata": {},
   "outputs": [
    {
     "name": "stdout",
     "output_type": "stream",
     "text": [
      "4384089440\n",
      "4384089408\n"
     ]
    }
   ],
   "source": [
    "#pass by value\n",
    "#in python, following data types all(always pass by value:\n",
    "#int, float, bool\n",
    "\n",
    "x = 5\n",
    "y = x\n",
    "x += 1\n",
    "\n",
    "print(id(x))\n",
    "print(id(y))"
   ]
  },
  {
   "cell_type": "code",
   "execution_count": 32,
   "id": "78cabf8b-56e8-45c3-9fef-631bb283779e",
   "metadata": {},
   "outputs": [
    {
     "name": "stdout",
     "output_type": "stream",
     "text": [
      "4426216960\n",
      "4426216960\n"
     ]
    }
   ],
   "source": [
    "#pass by reference\n",
    "#all other data structures or data types apart the primary data types passs by ref in python\n",
    "\n",
    "x = [1, 2, 3, 3, 5]\n",
    "y = x\n",
    "\n",
    "x.append(6)\n",
    "\n",
    "print (id(x))\n",
    "print (id (y))"
   ]
  },
  {
   "cell_type": "code",
   "execution_count": 36,
   "id": "6b3c354e-3c7b-4b6c-a67a-c948b49dec89",
   "metadata": {},
   "outputs": [],
   "source": [
    "#simplified implementation\n",
    "\n",
    "class Queue:\n",
    "    def __init__(self):\n",
    "        self.items = []\n",
    "\n",
    "    def enqueue(self,value):\n",
    "        self.items.insert(0, value)\n",
    "\n",
    "    def dequeue(self,value):\n",
    "        return self.items.pop()\n",
    "\n",
    "    #nice to have \n",
    "\n",
    "    def peek(self):\n",
    "        return self.items[len(self.items)-1]\n",
    "\n",
    "    def size(self):\n",
    "        return len(self.items)\n",
    "\n",
    "    def is_empty(self):\n",
    "        return self.items == []\n",
    "        "
   ]
  },
  {
   "cell_type": "code",
   "execution_count": 38,
   "id": "5efda315-0266-48c8-b444-650627d853e7",
   "metadata": {},
   "outputs": [],
   "source": [
    "#from scratch implementation of queue (no built-ins)\n",
    "#boilerplate: you populate the methods\n",
    "\n",
    "class QueueII:\n",
    "    class __Node: \n",
    "        def __init__(self, data):\n",
    "            self.data = data\n",
    "            self.next = None\n",
    "            #consider if you need/want\n",
    "            #self.prev = None\n",
    "    def __init__(self):\n",
    "            self.rear = None\n",
    "            self.front = None\n",
    "            \n",
    "    def enqueue(self, value):\n",
    "        pass\n",
    "    def dequeue(self):\n",
    "        pass\n",
    "    #nice to have methods\n",
    "    #add here"
   ]
  },
  {
   "cell_type": "code",
   "execution_count": null,
   "id": "7b515f11-5920-4ee9-b2b5-60c782dce884",
   "metadata": {},
   "outputs": [],
   "source": []
  }
 ],
 "metadata": {
  "kernelspec": {
   "display_name": "Python 3 (ipykernel)",
   "language": "python",
   "name": "python3"
  },
  "language_info": {
   "codemirror_mode": {
    "name": "ipython",
    "version": 3
   },
   "file_extension": ".py",
   "mimetype": "text/x-python",
   "name": "python",
   "nbconvert_exporter": "python",
   "pygments_lexer": "ipython3",
   "version": "3.11.4"
  }
 },
 "nbformat": 4,
 "nbformat_minor": 5
}
