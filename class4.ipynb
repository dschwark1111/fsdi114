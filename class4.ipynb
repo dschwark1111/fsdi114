{
 "cells": [
  {
   "cell_type": "code",
   "execution_count": 21,
   "id": "5f479482-7c95-4579-81f1-e1090fbb40d4",
   "metadata": {},
   "outputs": [],
   "source": [
    "#Doubly Linked Lists\n",
    "\n",
    "class DoublyLinkedList:\n",
    "    class __Node:\n",
    "        def __init__(self,data):\n",
    "            self.data = data\n",
    "            self.next = None\n",
    "            self.prev = None\n",
    "\n",
    "    def __init__(self):\n",
    "        self.head = None\n",
    "\n",
    "    def append(self, value):\n",
    "        new_node = self.__Node(value)\n",
    "        if not self.head:\n",
    "            self.head = new_node\n",
    "        else:\n",
    "            current = self.head\n",
    "            while current.next:\n",
    "                current = current.next\n",
    "            current.next = new_node  \n",
    "            new_node.prev = current \n",
    "            \n",
    "    def insert(self, index, value):\n",
    "        pass\n",
    "\n",
    "    def remove(self, value):\n",
    "        if not self.head:\n",
    "            raise ValueError(\"The list is empty\")\n",
    "        else:\n",
    "            current = self.head\n",
    "            if current.data == value:\n",
    "                self.head = self.head.next\n",
    "            else:\n",
    "                previous = None\n",
    "                while current.data != value and current.next:\n",
    "                    previous = current\n",
    "                    current = current.next\n",
    "                if current.data == value:\n",
    "                    previous.next = current.next\n",
    "                else:\n",
    "                    raise ValueError(\"Value not found\")\n",
    "\n",
    "\n",
    "    def __len__(self):\n",
    "        return 0\n",
    "\n",
    "    def __str__(self):\n",
    "        out = \"[\"\n",
    "        current =self.head\n",
    "        if current:\n",
    "            out += \"%s\" % repr(current.data)\n",
    "            current = current.next\n",
    "            while current:\n",
    "                out += \",%s\" % repr(current.data)\n",
    "                current = current.next\n",
    "            out += \"]\"\n",
    "        return out\n",
    "\n",
    "    def __repr__(self):\n",
    "        return self.__str__()\n",
    "\n",
    "\n"
   ]
  },
  {
   "cell_type": "code",
   "execution_count": 6,
   "id": "e488cd68-113b-461b-aab6-a3fa0b01ad8a",
   "metadata": {},
   "outputs": [],
   "source": [
    "#Append\n",
    "#create new node\n",
    "#check if list is empty\n",
    "#check if list contains elements "
   ]
  },
  {
   "cell_type": "markdown",
   "id": "0829d4f6-595f-4485-ae63-bade0da42cc8",
   "metadata": {},
   "source": [
    "# Problem 1: The Matrix\n",
    "## using the DoublyLinkedList class (above) create a class called Matrix which generates an nxm grid\n",
    "\n",
    "````\n",
    "Example: mat = Matrix()\n",
    "for i in range(3):\n",
    "    dll = DoublyLinkedList()\n",
    "    for j in range(3)\n",
    "        dll.append(j)\n",
    "    mat.append(dll)\n",
    "\n",
    "The code above should produce:\n",
    "[[0,1,2], [0, 1, 2], [0,1,2]]\n",
    "\n",
    "`````\n",
    "\n",
    "## Bonus \n",
    "As an additional step, get your matrix to display like this:\n",
    "\n",
    "````\n",
    "0 1 2\n",
    "0 1 2\n",
    "0 1 2\n",
    "``````"
   ]
  },
  {
   "cell_type": "code",
   "execution_count": 8,
   "id": "d205841f-d226-4365-a51a-b26fe948dc1b",
   "metadata": {},
   "outputs": [
    {
     "name": "stdout",
     "output_type": "stream",
     "text": [
      "[[0, 1, 2, 3, 4], [0, 1, 2, 3, 4], [0, 1, 2, 3, 4], [0, 1, 2, 3, 4], [0, 1, 2, 3, 4]]\n"
     ]
    }
   ],
   "source": [
    "pylist = []\n",
    "\n",
    "for i in range(5):\n",
    "    temp_list = []\n",
    "    for j in range(5):\n",
    "        temp_list.append(j)\n",
    "    pylist.append(temp_list)\n",
    "\n",
    "print(pylist)"
   ]
  },
  {
   "cell_type": "code",
   "execution_count": 24,
   "id": "b20567e2-88bb-4da3-a567-6e25d5b44b8e",
   "metadata": {},
   "outputs": [],
   "source": [
    "class Matrix:\n",
    "    def __init__(self, n=3, m=3):\n",
    "        self.n = n\n",
    "        self.m = m\n",
    "\n",
    "        self.container = DoublyLinkedList()\n",
    "\n",
    "    def append(self, dll):\n",
    "        # for i in range(3):\n",
    "        #     dll = DoublyLinkedList()\n",
    "        # for j in range(3):\n",
    "        #     dll.append(j)\n",
    "        # mat.append(dll)\n",
    "        self.container.append(dll)\n",
    "\n",
    "    def __str__(self):\n",
    "        return self.container.__str__()"
   ]
  },
  {
   "cell_type": "code",
   "execution_count": 25,
   "id": "d8350ce3-f12a-4201-bfb4-c09875b85479",
   "metadata": {},
   "outputs": [
    {
     "name": "stdout",
     "output_type": "stream",
     "text": [
      "[[0,1,2,3,4],[0,1,2,3,4],[0,1,2,3,4],[0,1,2,3,4],[0,1,2,3,4]]\n"
     ]
    }
   ],
   "source": [
    "mat = Matrix()\n",
    "\n",
    "for i in range(5):\n",
    "    temp_list = DoublyLinkedList()\n",
    "    for j in range(5):\n",
    "        temp_list.append(j)\n",
    "    mat.append(temp_list)\n",
    "\n",
    "print(mat)"
   ]
  },
  {
   "cell_type": "markdown",
   "id": "26951bb9-2d2f-46b9-931a-5a93354f9728",
   "metadata": {},
   "source": [
    "# Recursive Functions"
   ]
  },
  {
   "cell_type": "code",
   "execution_count": 26,
   "id": "bb6eee75-e77d-450f-bf34-0ada3db5d972",
   "metadata": {},
   "outputs": [],
   "source": [
    "#A recursive function is one that calls itself at least once\n",
    "#another important premise of a recursive function is that it should have an exit condition\n",
    "#typically referred to as the base case"
   ]
  },
  {
   "cell_type": "code",
   "execution_count": 27,
   "id": "0e7f8f33-6e73-4571-8c24-09dc1eaae1ec",
   "metadata": {},
   "outputs": [],
   "source": [
    "# a simple example\n",
    "# the factorial function\n",
    "# a factorial of an integer N is typically denoted N! and is the result of multiple like so:\n",
    "#Nx(N-1)xN-2)xNx3...x1\n",
    "#Ex: 5! = 5x4x3x2x1\n",
    "# one important convention is that )! = 1\n",
    "\n",
    "#represented as a recursive function :\n",
    "def fact(n):\n",
    "    if n == 0:\n",
    "        return 1\n",
    "    return n*fact(n-1)\n",
    "    "
   ]
  },
  {
   "cell_type": "code",
   "execution_count": 28,
   "id": "f303ee04-9850-4fed-8193-5d7b602f3bd4",
   "metadata": {},
   "outputs": [
    {
     "data": {
      "text/plain": [
       "120"
      ]
     },
     "execution_count": 28,
     "metadata": {},
     "output_type": "execute_result"
    }
   ],
   "source": [
    "fact(5)"
   ]
  },
  {
   "cell_type": "code",
   "execution_count": null,
   "id": "39d37a6f-2650-4810-af89-d2aa2d27aeff",
   "metadata": {},
   "outputs": [],
   "source": [
    "# the fibonacci series\n",
    "#Fib(n) = Fib(n-1)+fib(n-2)\n",
    "\n",
    "#the base case for fibonacci\n",
    "# F0 = ), F1 = 1\n",
    "#so if we want to calculate F2\n",
    "#F2 = F1 + F0\n",
    "#f = F2 + F1\n",
    "\n",
    "#Example:\n",
    "# 0, 1, 1, 2, 3, 5, 8, 13, 21\n",
    "\n",
    "from functools import lru_cache\n",
    "\n",
    "#recursive funtion example:\n",
    "\n",
    "@lru_cache\n",
    "def fib(n):\n",
    "    if n < 2:\n",
    "        return n\n",
    "    return fib(n-1) + fib(n-2)"
   ]
  },
  {
   "cell_type": "code",
   "execution_count": null,
   "id": "e7eddfa8-c12c-4821-bb5c-43602900acae",
   "metadata": {},
   "outputs": [],
   "source": [
    "fib(3)"
   ]
  },
  {
   "cell_type": "code",
   "execution_count": null,
   "id": "897de721-7cf2-4a62-9825-05147e121baa",
   "metadata": {},
   "outputs": [],
   "source": [
    "#one list for keys\n",
    "#one list for values\n",
    "#these two kists must be equal length at all times\n",
    "keys = [0, 1, 2, 3, 4, 5, 6, 7, 8]\n",
    "values = [0, 1, 2, 3, 4, 5, 8, 13, 21]"
   ]
  },
  {
   "cell_type": "code",
   "execution_count": null,
   "id": "ba5e8a05-1ded-4780-9c88-fe2a2ac08ac0",
   "metadata": {},
   "outputs": [],
   "source": []
  }
 ],
 "metadata": {
  "kernelspec": {
   "display_name": "Python 3 (ipykernel)",
   "language": "python",
   "name": "python3"
  },
  "language_info": {
   "codemirror_mode": {
    "name": "ipython",
    "version": 3
   },
   "file_extension": ".py",
   "mimetype": "text/x-python",
   "name": "python",
   "nbconvert_exporter": "python",
   "pygments_lexer": "ipython3",
   "version": "3.11.4"
  }
 },
 "nbformat": 4,
 "nbformat_minor": 5
}
